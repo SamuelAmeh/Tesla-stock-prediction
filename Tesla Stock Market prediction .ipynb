{
 "cells": [
  {
   "cell_type": "code",
   "execution_count": 1,
   "metadata": {},
   "outputs": [],
   "source": [
    "import numpy as np\n",
    "import pandas as pd\n",
    "from sklearn import preprocessing\n",
    "from sklearn.model_selection import train_test_split\n",
    "from sklearn.linear_model import LinearRegression"
   ]
  },
  {
   "cell_type": "code",
   "execution_count": 67,
   "metadata": {},
   "outputs": [],
   "source": [
    "def prepare_data(df,forecast_col,forecast_out,test_size):\n",
    "    label = df[forecast_col].shift(-forecast_out) #creating new column called label with the last 10 rows are nan\n",
    "    X = np.array(df[[forecast_col]]) #creating the feature array\n",
    "    X = preprocessing.scale(X) #processing the feature array\n",
    "    X_lately = X[-forecast_out:] #creating the column we want to use later in the predicting method\n",
    "    X = X[:-forecast_out] # X that will contain the training and testing\n",
    "    label.dropna(inplace=True) #dropping na values\n",
    "    y = np.array(label)  # assigning Y\n",
    "    X_train, X_test, Y_train, Y_test = train_test_split(X, y, test_size=test_size, random_state=0) #cross validation\n",
    "\n",
    "    response = [X_train,X_test , Y_train, Y_test , X_lately]\n",
    "    return response"
   ]
  },
  {
   "cell_type": "code",
   "execution_count": 68,
   "metadata": {},
   "outputs": [],
   "source": [
    "#Using the data of Tesla stocks till date 29/01/2021\n",
    "\n",
    "df = pd.read_csv(r\"C:\\Users\\HP USER\\Desktop\\TSLA.csv\")\n",
    "\n"
   ]
  },
  {
   "cell_type": "code",
   "execution_count": 66,
   "metadata": {},
   "outputs": [
    {
     "data": {
      "text/html": [
       "<style type=\"text/css\">\n",
       "table.dataframe td, table.dataframe th {\n",
       "    border: 1px  black solid !important;\n",
       "  color: black !important;\n",
       "}\n",
       "</style>\n",
       "\n",
       "#To improve table visibility\n"
      ],
      "text/plain": [
       "<IPython.core.display.HTML object>"
      ]
     },
     "metadata": {},
     "output_type": "display_data"
    }
   ],
   "source": [
    "\n",
    "%%HTML\n",
    "<style type=\"text/css\">\n",
    "table.dataframe td, table.dataframe th {\n",
    "    border: 1px  black solid !important;\n",
    "  color: black !important;\n",
    "}\n",
    "</style>\n",
    "\n",
    "#To improve table visibility"
   ]
  },
  {
   "cell_type": "code",
   "execution_count": 55,
   "metadata": {},
   "outputs": [
    {
     "data": {
      "text/html": [
       "<div>\n",
       "<style scoped>\n",
       "    .dataframe tbody tr th:only-of-type {\n",
       "        vertical-align: middle;\n",
       "    }\n",
       "\n",
       "    .dataframe tbody tr th {\n",
       "        vertical-align: top;\n",
       "    }\n",
       "\n",
       "    .dataframe thead th {\n",
       "        text-align: right;\n",
       "    }\n",
       "</style>\n",
       "<table border=\"1\" class=\"dataframe\">\n",
       "  <thead>\n",
       "    <tr style=\"text-align: right;\">\n",
       "      <th></th>\n",
       "      <th>Date</th>\n",
       "      <th>Open</th>\n",
       "      <th>High</th>\n",
       "      <th>Low</th>\n",
       "      <th>Close</th>\n",
       "      <th>Adj Close</th>\n",
       "      <th>Volume</th>\n",
       "    </tr>\n",
       "  </thead>\n",
       "  <tbody>\n",
       "    <tr>\n",
       "      <th>0</th>\n",
       "      <td>1/29/2020</td>\n",
       "      <td>115.138000</td>\n",
       "      <td>117.959999</td>\n",
       "      <td>113.486000</td>\n",
       "      <td>116.197998</td>\n",
       "      <td>116.197998</td>\n",
       "      <td>89007500</td>\n",
       "    </tr>\n",
       "    <tr>\n",
       "      <th>1</th>\n",
       "      <td>1/30/2020</td>\n",
       "      <td>126.484001</td>\n",
       "      <td>130.175995</td>\n",
       "      <td>123.599998</td>\n",
       "      <td>128.162003</td>\n",
       "      <td>128.162003</td>\n",
       "      <td>145028500</td>\n",
       "    </tr>\n",
       "    <tr>\n",
       "      <th>2</th>\n",
       "      <td>1/31/2020</td>\n",
       "      <td>128.000000</td>\n",
       "      <td>130.600006</td>\n",
       "      <td>126.503998</td>\n",
       "      <td>130.113998</td>\n",
       "      <td>130.113998</td>\n",
       "      <td>78596500</td>\n",
       "    </tr>\n",
       "    <tr>\n",
       "      <th>3</th>\n",
       "      <td>2/3/2020</td>\n",
       "      <td>134.738007</td>\n",
       "      <td>157.227997</td>\n",
       "      <td>134.703995</td>\n",
       "      <td>156.000000</td>\n",
       "      <td>156.000000</td>\n",
       "      <td>236167500</td>\n",
       "    </tr>\n",
       "    <tr>\n",
       "      <th>4</th>\n",
       "      <td>2/4/2020</td>\n",
       "      <td>176.591995</td>\n",
       "      <td>193.798004</td>\n",
       "      <td>166.776001</td>\n",
       "      <td>177.412003</td>\n",
       "      <td>177.412003</td>\n",
       "      <td>304694000</td>\n",
       "    </tr>\n",
       "  </tbody>\n",
       "</table>\n",
       "</div>"
      ],
      "text/plain": [
       "        Date        Open        High         Low       Close   Adj Close  \\\n",
       "0  1/29/2020  115.138000  117.959999  113.486000  116.197998  116.197998   \n",
       "1  1/30/2020  126.484001  130.175995  123.599998  128.162003  128.162003   \n",
       "2  1/31/2020  128.000000  130.600006  126.503998  130.113998  130.113998   \n",
       "3   2/3/2020  134.738007  157.227997  134.703995  156.000000  156.000000   \n",
       "4   2/4/2020  176.591995  193.798004  166.776001  177.412003  177.412003   \n",
       "\n",
       "      Volume  \n",
       "0   89007500  \n",
       "1  145028500  \n",
       "2   78596500  \n",
       "3  236167500  \n",
       "4  304694000  "
      ]
     },
     "execution_count": 55,
     "metadata": {},
     "output_type": "execute_result"
    }
   ],
   "source": [
    "df.head()"
   ]
  },
  {
   "cell_type": "code",
   "execution_count": 56,
   "metadata": {},
   "outputs": [],
   "source": [
    "forecast_col = 'Close'\n",
    "forecast_out = 10\n",
    "test_size = 0.3"
   ]
  },
  {
   "cell_type": "code",
   "execution_count": 57,
   "metadata": {},
   "outputs": [],
   "source": [
    "X_train, X_test, Y_train, Y_test , X_lately =prepare_data(df,forecast_col,forecast_out,test_size); #calling the method were the cross validation and data preperation is in\n",
    "learner = LinearRegression() #initializing linear regression model"
   ]
  },
  {
   "cell_type": "code",
   "execution_count": 58,
   "metadata": {},
   "outputs": [
    {
     "data": {
      "text/plain": [
       "LinearRegression()"
      ]
     },
     "execution_count": 58,
     "metadata": {},
     "output_type": "execute_result"
    }
   ],
   "source": [
    "learner.fit(X_train,Y_train) #training the linear regression model"
   ]
  },
  {
   "cell_type": "code",
   "execution_count": 59,
   "metadata": {},
   "outputs": [],
   "source": [
    "#testing the linear regression model\n",
    "score=learner.score(X_test,Y_test)"
   ]
  },
  {
   "cell_type": "code",
   "execution_count": 60,
   "metadata": {},
   "outputs": [],
   "source": [
    "#set that will contain the forecasted data\n",
    "forecast= learner.predict(X_lately) "
   ]
  },
  {
   "cell_type": "code",
   "execution_count": 61,
   "metadata": {},
   "outputs": [],
   "source": [
    "#creting json object\n",
    "response={}"
   ]
  },
  {
   "cell_type": "code",
   "execution_count": 62,
   "metadata": {},
   "outputs": [],
   "source": [
    "response['test_score']=score\n",
    "response['forecast_set']=forecast"
   ]
  },
  {
   "cell_type": "code",
   "execution_count": 63,
   "metadata": {},
   "outputs": [
    {
     "name": "stdout",
     "output_type": "stream",
     "text": [
      "{'test_score': 0.9338789703316825, 'forecast_set': array([924.95954414, 904.29182044, 924.46587586, 930.93826923,\n",
      "       924.94856306, 926.75865923, 964.23253778, 966.74473658,\n",
      "       945.97825224, 914.46113772])}\n"
     ]
    }
   ],
   "source": [
    "print (response)"
   ]
  },
  {
   "cell_type": "code",
   "execution_count": null,
   "metadata": {},
   "outputs": [],
   "source": []
  },
  {
   "cell_type": "code",
   "execution_count": null,
   "metadata": {},
   "outputs": [],
   "source": []
  }
 ],
 "metadata": {
  "kernelspec": {
   "display_name": "Python 3",
   "language": "python",
   "name": "python3"
  },
  "language_info": {
   "codemirror_mode": {
    "name": "ipython",
    "version": 3
   },
   "file_extension": ".py",
   "mimetype": "text/x-python",
   "name": "python",
   "nbconvert_exporter": "python",
   "pygments_lexer": "ipython3",
   "version": "3.7.4"
  }
 },
 "nbformat": 4,
 "nbformat_minor": 4
}
